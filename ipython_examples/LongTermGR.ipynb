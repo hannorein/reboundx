{
 "cells": [
  {
   "cell_type": "markdown",
   "metadata": {},
   "source": [
    "# GR LongTerm"
   ]
  },
  {
   "cell_type": "code",
   "execution_count": 1,
   "metadata": {
    "collapsed": false
   },
   "outputs": [],
   "source": [
    "%matplotlib inline\n",
    "import rebound\n",
    "import reboundx\n",
    "import numpy as np\n",
    "import matplotlib.pyplot as plt"
   ]
  },
  {
   "cell_type": "markdown",
   "metadata": {},
   "source": [
    "A simulation without GR"
   ]
  },
  {
   "cell_type": "code",
   "execution_count": 23,
   "metadata": {
    "collapsed": true
   },
   "outputs": [],
   "source": [
    "sim = rebound.Simulation()\n",
    "sim.integrator = \"whfast\"\n",
    "sim.add(m=1.) # Sun\n",
    "sim.add(m=1.66013e-07,a=0.387098,e=0.205630) # Mercury-like\n",
    "sim.move_to_com() # Moves to the center of momentum frame\n",
    "sim.save(\"initial.bin\")"
   ]
  },
  {
   "cell_type": "code",
   "execution_count": 24,
   "metadata": {
    "collapsed": true
   },
   "outputs": [],
   "source": [
    "def run(sim):\n",
    "    N = 100\n",
    "    times= np.logspace(1.,4,N)\n",
    "    res = np.zeros((N,3))\n",
    "    energy0 = sim.calculate_energy()\n",
    "    for i, t in enumerate(times):\n",
    "        sim.integrate(t)\n",
    "        pomega = sim.calculate_orbits()[0].pomega+1e-16\n",
    "        energy = np.fabs((sim.calculate_energy()-energy0)/energy0)\n",
    "        res[i] = (t,pomega,energy)\n",
    "    return res"
   ]
  },
  {
   "cell_type": "code",
   "execution_count": null,
   "metadata": {
    "collapsed": false
   },
   "outputs": [],
   "source": [
    "sim = rebound.Simulation.from_file(\"initial.bin\")\n",
    "res_nogr = run(sim)\n",
    "\n",
    "sim = rebound.Simulation.from_file(\"initial.bin\")\n",
    "xs = reboundx.Extras(sim)\n",
    "xs.add_gr()\n",
    "res_gr = run(sim)"
   ]
  },
  {
   "cell_type": "code",
   "execution_count": null,
   "metadata": {
    "collapsed": false
   },
   "outputs": [],
   "source": [
    "fig = plt.figure(figsize=(13,5))\n",
    "ax = plt.subplot(121)\n",
    "ax.set_xscale('log')\n",
    "ax.set_yscale('log')\n",
    "ax.set_ylabel('pomega')\n",
    "plt.plot(res_nogr[:,0],res_nogr[:,1],label=\"no gr\")\n",
    "plt.plot(res_gr[:,0],res_gr[:,1],label=\"with gr\")\n",
    "plt.legend(loc='lower left')\n",
    "ax = plt.subplot(122)\n",
    "ax.set_xscale('log')\n",
    "ax.set_yscale('log')\n",
    "ax.set_ylabel('energy')\n",
    "plt.plot(res_nogr[:,0],res_nogr[:,2],label=\"no gr\")\n",
    "plt.plot(res_gr[:,0],res_gr[:,2],label=\"with gr\")"
   ]
  },
  {
   "cell_type": "code",
   "execution_count": 18,
   "metadata": {
    "collapsed": false
   },
   "outputs": [
    {
     "name": "stdout",
     "output_type": "stream",
     "text": [
      "<rebound.Orbit instance, a=0.387098051982 e=0.20563015494 inc=0.0 Omega=0.0 omega=0.0033165128047 f=2.14930035907>\n"
     ]
    }
   ],
   "source": [
    "print sim.calculate_orbits()[0]"
   ]
  },
  {
   "cell_type": "code",
   "execution_count": null,
   "metadata": {
    "collapsed": true
   },
   "outputs": [],
   "source": []
  }
 ],
 "metadata": {
  "kernelspec": {
   "display_name": "Python 2",
   "language": "python",
   "name": "python2"
  },
  "language_info": {
   "codemirror_mode": {
    "name": "ipython",
    "version": 2
   },
   "file_extension": ".py",
   "mimetype": "text/x-python",
   "name": "python",
   "nbconvert_exporter": "python",
   "pygments_lexer": "ipython2",
   "version": "2.7.10"
  }
 },
 "nbformat": 4,
 "nbformat_minor": 0
}
