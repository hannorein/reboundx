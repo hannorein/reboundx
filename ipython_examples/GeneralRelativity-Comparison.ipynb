{
 "cells": [
  {
   "cell_type": "markdown",
   "metadata": {},
   "source": [
    "# GR Comparison\n"
   ]
  },
  {
   "cell_type": "code",
   "execution_count": 1,
   "metadata": {
    "collapsed": false
   },
   "outputs": [],
   "source": [
    "import rebound\n",
    "import reboundx\n",
    "import time\n",
    "import numpy as np\n",
    "%matplotlib inline\n",
    "import matplotlib.pyplot as plt"
   ]
  },
  {
   "cell_type": "code",
   "execution_count": 2,
   "metadata": {
    "collapsed": false
   },
   "outputs": [],
   "source": [
    "def run(gr=None, swapMasses=False):  \n",
    "    sim = rebound.Simulation()\n",
    "    sim.integrator = \"ias15\"\n",
    "\n",
    "    if swapMasses:\n",
    "        sim.add(m=1.66013e-07,x=0.30749903826,vy=1.98009112946) # Mercury-like\n",
    "        sim.add(m=1.) # Sun\n",
    "    else:\n",
    "        sim.add(m=1.) # Sun\n",
    "        sim.add(m=1.66013e-07,x=0.30749903826,vy=1.98009112946) # Mercury-like\n",
    "    sim.move_to_com() # Moves to the center of momentum frame\n",
    "\n",
    "    if gr is not None:\n",
    "        xs = reboundx.Extras(sim)\n",
    "        methodToCall = getattr(xs, gr)\n",
    "        methodToCall()\n",
    "\n",
    "    sim.integrate(1000.)\n",
    "    \n",
    "    juliancentury = 628.33195 # in yr/2pi\n",
    "    arcsec = 4.8481368e-06 # in rad\n",
    "    if swapMasses:\n",
    "        pomega = sim.particles[0].calculate_orbit(sim, primary=sim.particles[1]).pomega\n",
    "    else:\n",
    "        pomega = sim.particles[1].calculate_orbit(sim, primary=sim.particles[0]).pomega\n",
    "    \n",
    "\n",
    "    return pomega/sim.t*juliancentury/arcsec"
   ]
  },
  {
   "cell_type": "code",
   "execution_count": 3,
   "metadata": {
    "collapsed": false
   },
   "outputs": [
    {
     "name": "stdout",
     "output_type": "stream",
     "text": [
      "Ordered masses...\n",
      "add_gr:  \t43.0327387862   0.46237s\n",
      "add_gr_potential:  \t42.8805602912   0.36046s\n",
      "add_gr_implicit:  \t43.0327434664   0.80656s\n",
      "\n",
      "\n",
      "Swapping masses...\n",
      "add_gr:  \t71.6198015059   0.46373s\n",
      "add_gr_potential:  \t0.0000000000   0.34851s\n",
      "add_gr_implicit:  \t43.0327435097   0.80410s\n"
     ]
    }
   ],
   "source": [
    "modules = [\"add_gr\", \"add_gr_potential\", \"add_gr_implicit\"]\n",
    "\n",
    "print(\"Ordered masses...\")\n",
    "for m in modules:\n",
    "    start = time.time()\n",
    "    res = run(m)\n",
    "    end = time.time()\n",
    "    print(\"%s:  \\t%.10f   %.5fs\"%(m,res,end-start))\n",
    "\n",
    "print(\"\\n\\nSwapping masses...\")\n",
    "for m in modules:\n",
    "    start = time.time()\n",
    "    res = run(m,swapMasses=True)\n",
    "    end = time.time()\n",
    "    print(\"%s:  \\t%.10f   %.5fs\"%(m,res,end-start))"
   ]
  },
  {
   "cell_type": "code",
   "execution_count": 4,
   "metadata": {
    "collapsed": true
   },
   "outputs": [],
   "source": [
    "def runSS(gr=None):  \n",
    "    sim = rebound.Simulation.from_file(\"initial-gr-ss.bin\")\n",
    "    sim.integrator = \"ias15\"\n",
    "    sim.move_to_com()\n",
    "\n",
    "    if gr is not None:\n",
    "        xs = reboundx.Extras(sim)\n",
    "        methodToCall = getattr(xs, gr)\n",
    "        methodToCall()\n",
    "\n",
    "    N = 1000\n",
    "    times = np.linspace(1,2.*np.pi*1e4,N)\n",
    "    es = np.zeros(N)\n",
    "    for i, t in enumerate(times):\n",
    "        \n",
    "        sim.integrate(t,exact_finish_time=1)\n",
    "        os = sim.calculate_orbits()\n",
    "        es[i] = os[0].e\n",
    "    \n",
    "    return times, es"
   ]
  },
  {
   "cell_type": "code",
   "execution_count": null,
   "metadata": {
    "collapsed": true
   },
   "outputs": [],
   "source": [
    "modules = [\"add_gr\", \"add_gr_potential\", \"add_gr_implicit\"]\n",
    "\n",
    "results = []\n",
    "for m in modules:\n",
    "    start = time.time()\n",
    "    res = runSS(m)\n",
    "    end = time.time()\n",
    "    results.append(res)\n",
    "    print(\"%s:    %.5fs\"%(m,end-start))"
   ]
  },
  {
   "cell_type": "code",
   "execution_count": null,
   "metadata": {
    "collapsed": false
   },
   "outputs": [],
   "source": [
    "fig = plt.figure(figsize=(13,7))\n",
    "ax = plt.subplot(111)\n",
    "ax.set_yscale(\"log\")\n",
    "\n",
    "for i, m in enumerate(modules):\n",
    "    if i!=2:\n",
    "        plt.plot(results[i][0],np.fabs(results[i][1]-results[2][1]), label=m)\n",
    "plt.legend(loc='lower left')"
   ]
  },
  {
   "cell_type": "code",
   "execution_count": null,
   "metadata": {
    "collapsed": true
   },
   "outputs": [],
   "source": []
  },
  {
   "cell_type": "code",
   "execution_count": null,
   "metadata": {
    "collapsed": true
   },
   "outputs": [],
   "source": []
  }
 ],
 "metadata": {
  "kernelspec": {
   "display_name": "Python 2",
   "language": "python",
   "name": "python2"
  },
  "language_info": {
   "codemirror_mode": {
    "name": "ipython",
    "version": 2
   },
   "file_extension": ".py",
   "mimetype": "text/x-python",
   "name": "python",
   "nbconvert_exporter": "python",
   "pygments_lexer": "ipython2",
   "version": "2.7.10"
  }
 },
 "nbformat": 4,
 "nbformat_minor": 0
}
