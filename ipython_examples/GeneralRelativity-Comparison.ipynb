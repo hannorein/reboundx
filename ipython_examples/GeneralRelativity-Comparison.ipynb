{
 "cells": [
  {
   "cell_type": "markdown",
   "metadata": {},
   "source": [
    "# GR Comparison\n"
   ]
  },
  {
   "cell_type": "code",
   "execution_count": 24,
   "metadata": {
    "collapsed": false
   },
   "outputs": [],
   "source": [
    "import rebound\n",
    "import reboundx\n",
    "import time"
   ]
  },
  {
   "cell_type": "code",
   "execution_count": 27,
   "metadata": {
    "collapsed": false
   },
   "outputs": [],
   "source": [
    "def run(gr=None):  \n",
    "    sim = rebound.Simulation()\n",
    "    sim.integrator = \"ias15\"\n",
    "    sim.add(m=1.) # Sun\n",
    "    sim.add(m=1.66013e-07,x=0.30749903826,vy=1.98009112946) # Mercury-like\n",
    "    sim.move_to_com() # Moves to the center of momentum frame\n",
    "\n",
    "    if gr is not None:\n",
    "        xs = reboundx.Extras(sim)\n",
    "        methodToCall = getattr(xs, gr)\n",
    "        methodToCall()\n",
    "\n",
    "    sim.integrate(1000.)\n",
    "    \n",
    "    juliancentury = 628.33195 # in yr/2pi\n",
    "    arcsec = 4.8481368e-06 # in rad\n",
    "    pomega = sim.particles[1].calculate_orbit(sim, primary=sim.particles[0]).pomega\n",
    "\n",
    "    return pomega/sim.t*juliancentury/arcsec"
   ]
  },
  {
   "cell_type": "code",
   "execution_count": 29,
   "metadata": {
    "collapsed": false
   },
   "outputs": [
    {
     "name": "stdout",
     "output_type": "stream",
     "text": [
      "add_gr:  \t43.0327387862   0.46949s\n",
      "add_gr_potential:  \t42.8805602912   0.37029s\n",
      "add_gr_implicit:  \t43.0327339760   1.75355s\n"
     ]
    }
   ],
   "source": [
    "modules = [\"add_gr\", \"add_gr_potential\", \"add_gr_implicit\"]\n",
    "\n",
    "for m in modules:\n",
    "    start = time.time()\n",
    "    res = run(m)\n",
    "    end = time.time()\n",
    "    print(\"%s:  \\t%.10f   %.5fs\"%(m,res,end-start))"
   ]
  },
  {
   "cell_type": "code",
   "execution_count": null,
   "metadata": {
    "collapsed": true
   },
   "outputs": [],
   "source": []
  }
 ],
 "metadata": {
  "kernelspec": {
   "display_name": "Python 2",
   "language": "python",
   "name": "python2"
  },
  "language_info": {
   "codemirror_mode": {
    "name": "ipython",
    "version": 2
   },
   "file_extension": ".py",
   "mimetype": "text/x-python",
   "name": "python",
   "nbconvert_exporter": "python",
   "pygments_lexer": "ipython2",
   "version": "2.7.10"
  }
 },
 "nbformat": 4,
 "nbformat_minor": 0
}
