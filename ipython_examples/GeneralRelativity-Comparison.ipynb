{
 "cells": [
  {
   "cell_type": "markdown",
   "metadata": {},
   "source": [
    "# GR Comparison\n"
   ]
  },
  {
   "cell_type": "code",
   "execution_count": 24,
   "metadata": {
    "collapsed": false
   },
   "outputs": [],
   "source": [
    "import rebound\n",
    "import reboundx\n",
    "import time"
   ]
  },
  {
   "cell_type": "code",
   "execution_count": 38,
   "metadata": {
    "collapsed": false
   },
   "outputs": [],
   "source": [
    "def run(gr=None, swapMasses=False):  \n",
    "    sim = rebound.Simulation()\n",
    "    sim.integrator = \"ias15\"\n",
    "\n",
    "    if swapMasses:\n",
    "        sim.add(m=1.66013e-07,x=0.30749903826,vy=1.98009112946) # Mercury-like\n",
    "        sim.add(m=1.) # Sun\n",
    "    else:\n",
    "        sim.add(m=1.) # Sun\n",
    "        sim.add(m=1.66013e-07,x=0.30749903826,vy=1.98009112946) # Mercury-like\n",
    "    sim.move_to_com() # Moves to the center of momentum frame\n",
    "\n",
    "    if gr is not None:\n",
    "        xs = reboundx.Extras(sim)\n",
    "        methodToCall = getattr(xs, gr)\n",
    "        methodToCall()\n",
    "\n",
    "    sim.integrate(1000.)\n",
    "    \n",
    "    juliancentury = 628.33195 # in yr/2pi\n",
    "    arcsec = 4.8481368e-06 # in rad\n",
    "    if swapMasses:\n",
    "        pomega = sim.particles[0].calculate_orbit(sim, primary=sim.particles[1]).pomega\n",
    "    else:\n",
    "        pomega = sim.particles[1].calculate_orbit(sim, primary=sim.particles[0]).pomega\n",
    "    \n",
    "\n",
    "    return pomega/sim.t*juliancentury/arcsec"
   ]
  },
  {
   "cell_type": "code",
   "execution_count": 40,
   "metadata": {
    "collapsed": false
   },
   "outputs": [
    {
     "name": "stdout",
     "output_type": "stream",
     "text": [
      "Ordered masses...\n",
      "add_gr:  \t43.0327387862   0.46940s\n",
      "add_gr_potential:  \t42.8805602912   0.36737s\n",
      "add_gr_implicit:  \t43.0327339760   1.74182s\n",
      "\n",
      "\n",
      "Swapping masses...\n",
      "add_gr:  \t71.6198015059   0.45564s\n",
      "add_gr_potential:  \t0.0000000000   0.35604s\n",
      "add_gr_implicit:  \t43.0327339760   1.82993s\n"
     ]
    }
   ],
   "source": [
    "modules = [\"add_gr\", \"add_gr_potential\", \"add_gr_implicit\"]\n",
    "\n",
    "print(\"Ordered masses...\")\n",
    "for m in modules:\n",
    "    start = time.time()\n",
    "    res = run(m)\n",
    "    end = time.time()\n",
    "    print(\"%s:  \\t%.10f   %.5fs\"%(m,res,end-start))\n",
    "\n",
    "print(\"\\n\\nSwapping masses...\")\n",
    "for m in modules:\n",
    "    start = time.time()\n",
    "    res = run(m,swapMasses=True)\n",
    "    end = time.time()\n",
    "    print(\"%s:  \\t%.10f   %.5fs\"%(m,res,end-start))"
   ]
  },
  {
   "cell_type": "code",
   "execution_count": null,
   "metadata": {
    "collapsed": true
   },
   "outputs": [],
   "source": []
  }
 ],
 "metadata": {
  "kernelspec": {
   "display_name": "Python 2",
   "language": "python",
   "name": "python2"
  },
  "language_info": {
   "codemirror_mode": {
    "name": "ipython",
    "version": 2
   },
   "file_extension": ".py",
   "mimetype": "text/x-python",
   "name": "python",
   "nbconvert_exporter": "python",
   "pygments_lexer": "ipython2",
   "version": "2.7.10"
  }
 },
 "nbformat": 4,
 "nbformat_minor": 0
}
